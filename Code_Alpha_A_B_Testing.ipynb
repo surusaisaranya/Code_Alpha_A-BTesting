{
  "nbformat": 4,
  "nbformat_minor": 0,
  "metadata": {
    "colab": {
      "provenance": []
    },
    "kernelspec": {
      "name": "python3",
      "display_name": "Python 3"
    },
    "language_info": {
      "name": "python"
    }
  },
  "cells": [
    {
      "cell_type": "code",
      "execution_count": null,
      "metadata": {
        "colab": {
          "base_uri": "https://localhost:8080/"
        },
        "id": "5M6ydwxVBSqa",
        "outputId": "68f1434c-ec22-4c70-8d89-6060a452801f"
      },
      "outputs": [
        {
          "output_type": "stream",
          "name": "stdout",
          "text": [
            "      group  click\n",
            "0       exp      0\n",
            "1       exp      0\n",
            "2       exp      0\n",
            "3       exp      1\n",
            "4       exp      1\n",
            "...     ...    ...\n",
            "19995   con      0\n",
            "19996   con      0\n",
            "19997   con      0\n",
            "19998   con      0\n",
            "19999   con      0\n",
            "\n",
            "[20000 rows x 2 columns]\n",
            "group\n",
            "con    1935\n",
            "exp    5039\n",
            "Name: click, dtype: int64\n",
            "Click rate probability in control group 0.1935\n",
            "Click rate probability in experimental group 0.5039\n",
            "The pooled probability is : 0.3487\n",
            "The standard error for the data : 0.05667271408090786\n",
            "The confidence interval is : [0.199, 0.421]\n"
          ]
        }
      ],
      "source": [
        "import numpy as np\n",
        "from scipy.stats import norm\n",
        "import pandas as pd\n",
        "N_exp = 10000\n",
        "N_con = 10000\n",
        "click_exp = pd.Series(np.random.binomial(1,0.5,size = N_exp))\n",
        "click_con = pd.Series(np.random.binomial(1,0.2,size = N_con))\n",
        "exp_id = pd.Series(np.repeat(\"exp\",N_exp))\n",
        "con_id = pd.Series(np.repeat(\"con\",N_con))\n",
        "df_exp = pd.concat([exp_id,click_exp],axis = 1)\n",
        "df_con = pd.concat([con_id,click_con],axis = 1)\n",
        "#df = pd.concat([df_con,df_exp])\n",
        "df_exp.columns = [\"group\",\"click\"]\n",
        "df_con.columns = [\"group\",\"click\"]\n",
        "df_ab_test = pd.concat([df_exp,df_con],axis = 0).reset_index(drop=True)\n",
        "print(df_ab_test)\n",
        "print(df_ab_test.groupby(\"group\")[\"click\"].sum())\n",
        "X_con = df_ab_test.groupby(\"group\")[\"click\"].sum().loc[\"con\"]\n",
        "X_exp = df_ab_test.groupby(\"group\")[\"click\"].sum().loc[\"exp\"]\n",
        "\n",
        "\n",
        "#calculating the p_value\n",
        "\n",
        "p_con_hat = X_con/N_con\n",
        "p_exp_hat = X_exp/N_exp\n",
        "print(\"Click rate probability in control group\",p_con_hat)\n",
        "print(\"Click rate probability in experimental group\",p_exp_hat)\n",
        "\n",
        "\n",
        "p_pooled = (X_con+X_exp)/(N_con+N_exp)\n",
        "print(\"The pooled probability is :\",p_pooled)\n",
        "SE = np.sqrt(p_pooled * (1 - p_pooled) * np.sqrt(1/N_con + 1/ N_exp))\n",
        "print('The standard error for the data :',SE)\n",
        "alpha = 0.05\n",
        "Z_value = norm.ppf(1-alpha / 2)\n",
        "CI = [round((p_exp_hat - p_con_hat) -Z_value*SE,3) ,\n",
        "      round((p_exp_hat - p_con_hat) +Z_value*SE,3)]\n",
        "print(\"The confidence interval is :\",CI)\n"
      ]
    },
    {
      "cell_type": "markdown",
      "source": [
        "# **Udacity Free Trial Screener Model Analysis**"
      ],
      "metadata": {
        "id": "FiyQTrkdUqxT"
      }
    },
    {
      "cell_type": "code",
      "source": [
        "import numpy as np\n",
        "import pandas as pd\n",
        "from scipy.stats import norm\n",
        "import seaborn as sns\n",
        "import matplotlib.pyplot as plt"
      ],
      "metadata": {
        "id": "Bi7eI5lRFB6D"
      },
      "execution_count": null,
      "outputs": []
    },
    {
      "cell_type": "code",
      "source": [
        "import pandas as pd\n",
        "import numpy as np\n",
        "import random\n",
        "from datetime import datetime, timedelta\n",
        "\n",
        "# Number of rows\n",
        "n_rows = 10000\n",
        "\n",
        "# Generate user IDs\n",
        "user_ids = [f\"{i}\" for i in range(1, n_rows + 1)]\n",
        "\n",
        "# Generate random clicks (0 or 1)\n",
        "clicks = np.random.choice([0, 1], size=n_rows)\n",
        "\n",
        "# Generate groups (randomly assigning \"exp\" or \"con\")\n",
        "groups = np.random.choice([\"exp\", \"con\"], size=n_rows)\n",
        "\n",
        "# Generate random timestamps\n",
        "start_date = datetime(2023, 1, 1)\n",
        "end_date = datetime(2023, 12, 31)\n",
        "timestamps = [start_date + timedelta(seconds=random.randint(0, int((end_date - start_date).total_seconds()))) for _ in range(n_rows)]\n",
        "\n",
        "# Create the DataFrame\n",
        "data = {\n",
        "    \"user_id\": user_ids,\n",
        "    \"click\": clicks,\n",
        "    \"group\": groups,\n",
        "    \"timestamp\": timestamps\n",
        "}\n",
        "df = pd.DataFrame(data)\n",
        "\n",
        "# Display the first few rows\n",
        "print(df.head())\n",
        "\n",
        "# Optionally save to a CSV file\n",
        "df.to_csv(\"user_data.csv\", index=False)\n"
      ],
      "metadata": {
        "colab": {
          "base_uri": "https://localhost:8080/"
        },
        "id": "5L0FcxtdaUld",
        "outputId": "d1a09456-9228-4404-ef16-d776f5af9334"
      },
      "execution_count": null,
      "outputs": [
        {
          "output_type": "stream",
          "name": "stdout",
          "text": [
            "  user_id  click group           timestamp\n",
            "0       1      1   con 2023-11-09 11:08:56\n",
            "1       2      1   con 2023-09-06 08:48:23\n",
            "2       3      0   con 2023-03-09 02:22:26\n",
            "3       4      0   con 2023-03-22 19:31:56\n",
            "4       5      1   con 2023-07-15 15:50:50\n"
          ]
        }
      ]
    },
    {
      "cell_type": "code",
      "source": [
        "df_ab_test = pd.read_csv('/content/user_data.csv')\n",
        "print(df_ab_test)"
      ],
      "metadata": {
        "colab": {
          "base_uri": "https://localhost:8080/"
        },
        "id": "EZCKVw-dFkHx",
        "outputId": "8aafaf03-ecd5-4e14-ab63-71feb1e59217"
      },
      "execution_count": null,
      "outputs": [
        {
          "output_type": "stream",
          "name": "stdout",
          "text": [
            "      user_id  click group            timestamp\n",
            "0           1      1   con  2023-11-09 11:08:56\n",
            "1           2      1   con  2023-09-06 08:48:23\n",
            "2           3      0   con  2023-03-09 02:22:26\n",
            "3           4      0   con  2023-03-22 19:31:56\n",
            "4           5      1   con  2023-07-15 15:50:50\n",
            "...       ...    ...   ...                  ...\n",
            "9995     9996      1   con  2023-05-18 08:55:06\n",
            "9996     9997      0   exp  2023-07-27 00:10:00\n",
            "9997     9998      1   exp  2023-07-11 09:06:01\n",
            "9998     9999      1   exp  2023-11-23 11:33:39\n",
            "9999    10000      1   con  2023-12-22 04:51:15\n",
            "\n",
            "[10000 rows x 4 columns]\n"
          ]
        }
      ]
    },
    {
      "cell_type": "code",
      "source": [
        "print(\"The first five columns looks like :\\n\")\n",
        "print(df_ab_test.head())\n",
        "print(\"\\nThe statistical description of the data:\\n\")\n",
        "print(df_ab_test.describe())\n",
        "print(\"\\nThe columns of a given data\\n\")\n",
        "print(df_ab_test.columns)"
      ],
      "metadata": {
        "colab": {
          "base_uri": "https://localhost:8080/"
        },
        "id": "JMXXkx60FkSo",
        "outputId": "d409d0c0-75ee-45d1-8ef1-b9badcfbd9f1"
      },
      "execution_count": null,
      "outputs": [
        {
          "output_type": "stream",
          "name": "stdout",
          "text": [
            "The first five columns looks like :\n",
            "\n",
            "   user_id  click group            timestamp\n",
            "0        1      1   con  2023-11-09 11:08:56\n",
            "1        2      1   con  2023-09-06 08:48:23\n",
            "2        3      0   con  2023-03-09 02:22:26\n",
            "3        4      0   con  2023-03-22 19:31:56\n",
            "4        5      1   con  2023-07-15 15:50:50\n",
            "\n",
            "The statistical description of the data:\n",
            "\n",
            "           user_id         click\n",
            "count  10000.00000  10000.000000\n",
            "mean    5000.50000      0.494300\n",
            "std     2886.89568      0.499993\n",
            "min        1.00000      0.000000\n",
            "25%     2500.75000      0.000000\n",
            "50%     5000.50000      0.000000\n",
            "75%     7500.25000      1.000000\n",
            "max    10000.00000      1.000000\n",
            "\n",
            "The columns of a given data\n",
            "\n",
            "Index(['user_id', 'click', 'group', 'timestamp'], dtype='object')\n"
          ]
        }
      ]
    },
    {
      "cell_type": "code",
      "source": [
        "a = df_ab_test.groupby(\"group\")[\"click\"].sum()\n",
        "print(a)"
      ],
      "metadata": {
        "colab": {
          "base_uri": "https://localhost:8080/"
        },
        "id": "CiM_UGsGFCBE",
        "outputId": "62bdf396-c5dc-4ba1-dc11-b395f80d6fc3"
      },
      "execution_count": null,
      "outputs": [
        {
          "output_type": "stream",
          "name": "stdout",
          "text": [
            "group\n",
            "con    2480\n",
            "exp    2463\n",
            "Name: click, dtype: int64\n"
          ]
        }
      ]
    },
    {
      "cell_type": "code",
      "source": [
        "palette = {0:'red',1:'green'}\n",
        "plt.figure(figsize = (10,6))\n",
        "ax = sns.countplot(x = \"group\" , hue = \"click\" , data = df_ab_test,palette= palette)\n",
        "plt.title(\"Click distribution in experimental and control groups\")\n",
        "plt.xlabel(\"Group\")\n",
        "plt.ylabel(\"Count\")\n",
        "plt.legend(title = \"click\",labels = [\"No Click\",\"Click\"])\n",
        "\n",
        "group_counts = df_ab_test.groupby(['group']).size()\n",
        "group_click_counts = df_ab_test.groupby(['group','click']).size()\n",
        "for p in ax.patches:\n",
        "  height = p.get_height()\n",
        "  group='exp' if p.get_x() < 0.5 else 'con'\n",
        "  click = 1 if p.get_x() % 1 > 0.5 else 0\n",
        "  total = group_counts[group]\n",
        "  percentage = 100*height/total\n",
        "  ax.text(p.get_x() + p.get_width() /2.,height+5,f'{percentage:.1f}%',ha = 'center',color = 'black' , fontsize = 10)\n",
        "\n",
        "plt.show()\n"
      ],
      "metadata": {
        "id": "XYw7eE-AFCFU",
        "colab": {
          "base_uri": "https://localhost:8080/",
          "height": 584
        },
        "outputId": "2b1cea55-ab05-4610-857c-22e875f2717e"
      },
      "execution_count": null,
      "outputs": [
        {
          "output_type": "display_data",
          "data": {
            "text/plain": [
              "<Figure size 1000x600 with 1 Axes>"
            ],
            "image/png": "[encoded data removed]"
          },
          "metadata": {}
        }
      ]
    },
    {
      "cell_type": "markdown",
      "source": [
        "# **Parameters of the Model from Power Analysis:**\n",
        "\n",
        "\n",
        "β:probability of type-II error\n",
        "\n",
        "(1-β):power\n",
        "\n",
        "α:significance\n",
        "\n",
        "δ:minimum detectable effect\n",
        "\n",
        "\n",
        "\n",
        "\n"
      ],
      "metadata": {
        "id": "eRYikiGP7p6H"
      }
    },
    {
      "cell_type": "code",
      "source": [
        "alpha = 0.05\n",
        "print(\"The alpha value of the data is : \",alpha)\n",
        "delta  = 0.1\n",
        "print(\"The delta  value of the data is :\" , delta)\n"
      ],
      "metadata": {
        "colab": {
          "base_uri": "https://localhost:8080/"
        },
        "id": "vImYLIIV7m1r",
        "outputId": "21be8fcf-3fec-4e8f-ed52-ea11253579b4"
      },
      "execution_count": null,
      "outputs": [
        {
          "output_type": "stream",
          "name": "stdout",
          "text": [
            "The alpha value of the data is :  0.05\n",
            "The delta  value of the data is : 0.1\n"
          ]
        }
      ]
    },
    {
      "cell_type": "code",
      "source": [
        "X_con = df_ab_test.groupby(\"group\")['click'].sum().loc['con']\n",
        "X_exp = df_ab_test.groupby(\"group\")[\"click\"].sum().loc['exp']\n",
        "N_exp = df_ab_test.groupby(\"group\")[\"click\"].count()\n",
        "N_con = df_ab_test.groupby(\"group\")[\"click\"].count()\n",
        "print(\"No of users in con group:\\n\",N_con)\n",
        "print(\"No of users in exp group:\\n\",N_exp)\n",
        "print(\"The total clicks in con:\\n\",X_con)\n",
        "print(\"The total clicks in exp:\\n\",X_exp)"
      ],
      "metadata": {
        "colab": {
          "base_uri": "https://localhost:8080/"
        },
        "id": "BzQniSdJ7m5R",
        "outputId": "a1a451f9-ecb9-48df-d5b0-bb2cab3d70b6"
      },
      "execution_count": null,
      "outputs": [
        {
          "output_type": "stream",
          "name": "stdout",
          "text": [
            "No of users in con group:\n",
            " group\n",
            "con    5068\n",
            "exp    4932\n",
            "Name: click, dtype: int64\n",
            "No of users in exp group:\n",
            " group\n",
            "con    5068\n",
            "exp    4932\n",
            "Name: click, dtype: int64\n",
            "The total clicks in con:\n",
            " 2480\n",
            "The total clicks in exp:\n",
            " 2463\n"
          ]
        }
      ]
    },
    {
      "cell_type": "markdown",
      "source": [
        "# **Calculating the Pooled estimates for Clicks per group**"
      ],
      "metadata": {
        "id": "e0Ryup9x_2rL"
      }
    },
    {
      "cell_type": "code",
      "source": [
        "p_con_hat = X_con/N_con\n",
        "p_exp_hat = X_exp/N_exp\n",
        "print(\"Click rate probability in control group\",p_con_hat)\n",
        "print(\"Click rate probability in experimental group\",p_exp_hat)\n",
        "p_pooled = (X_con+X_exp)/(N_con+N_exp)\n",
        "print(\"The pooled probability is :\",p_pooled)"
      ],
      "metadata": {
        "colab": {
          "base_uri": "https://localhost:8080/"
        },
        "id": "sRYGyKO57m-n",
        "outputId": "d1c52c65-9fd9-4462-acb2-35bb23cf9692"
      },
      "execution_count": null,
      "outputs": [
        {
          "output_type": "stream",
          "name": "stdout",
          "text": [
            "Click rate probability in control group group\n",
            "con    0.489345\n",
            "exp    0.502839\n",
            "Name: click, dtype: float64\n",
            "Click rate probability in experimental group group\n",
            "con    0.485991\n",
            "exp    0.499392\n",
            "Name: click, dtype: float64\n",
            "The pooled probability is : group\n",
            "con    0.487668\n",
            "exp    0.501115\n",
            "Name: click, dtype: float64\n"
          ]
        }
      ]
    },
    {
      "cell_type": "code",
      "source": [
        "from scipy.stats import norm\n",
        "z_value = norm.ppf(1-alpha/2)\n",
        "print(\"The z value is :\",z_value)\n",
        "SE = np.sqrt(p_pooled * (1 - p_pooled) * (1/N_con + 1/ N_exp))\n",
        "print('The standard error for the data :',SE)\n",
        "CI = [round((p_con_hat - p_exp_hat) - z_value * SE , 3),\n",
        "      round((p_con_hat - p_exp_hat) + z_value * SE , 3)]\n",
        "\n",
        "print(\"The confidence interval of the data as follows :\",CI)\n"
      ],
      "metadata": {
        "colab": {
          "base_uri": "https://localhost:8080/"
        },
        "id": "VCCbSb3q7nCC",
        "outputId": "d272dee3-a837-40b7-fde6-767104bd63bc"
      },
      "execution_count": null,
      "outputs": [
        {
          "output_type": "stream",
          "name": "stdout",
          "text": [
            "The z value is : 1.959963984540054\n",
            "The standard error for the data : group\n",
            "con    0.009930\n",
            "exp    0.010069\n",
            "Name: click, dtype: float64\n",
            "The confidence interval of the data as follows : [group\n",
            "con   -0.016\n",
            "exp   -0.016\n",
            "Name: click, dtype: float64, group\n",
            "con    0.023\n",
            "exp    0.023\n",
            "Name: click, dtype: float64]\n"
          ]
        }
      ]
    },
    {
      "cell_type": "markdown",
      "source": [
        "# **T test value**"
      ],
      "metadata": {
        "id": "cAd9DSXkDh4o"
      }
    },
    {
      "cell_type": "code",
      "source": [
        "t_test = (p_con_hat-p_exp_hat)/SE\n",
        "print(\"The T statistic value is :\",t_test)"
      ],
      "metadata": {
        "colab": {
          "base_uri": "https://localhost:8080/"
        },
        "id": "GVDKRXRj7nF9",
        "outputId": "c904ea9a-d9bb-460f-e5f5-9999cb36aef2"
      },
      "execution_count": null,
      "outputs": [
        {
          "output_type": "stream",
          "name": "stdout",
          "text": [
            "The T statistic value is : group\n",
            "con    0.337814\n",
            "exp    0.342337\n",
            "Name: click, dtype: float64\n"
          ]
        }
      ]
    },
    {
      "cell_type": "markdown",
      "source": [
        "# **p Value**"
      ],
      "metadata": {
        "id": "1Wcup1q4ETuH"
      }
    },
    {
      "cell_type": "code",
      "source": [
        "p_value = 2 * norm.sf(abs(t_test))\n",
        "\n",
        "def is_statistical_significant(p_value, alpha):\n",
        "    \"\"\"\n",
        "    Determine if the test results are statistically significant.\n",
        "    Handles both scalar and array-like p_value inputs.\n",
        "    \"\"\"\n",
        "    print(f\"The p-value(s): {p_value}\")\n",
        "    if isinstance(p_value, (list, tuple, np.ndarray)):  # Check if p_value is array-like\n",
        "        significant = [p < alpha for p in p_value]  # Compare each p-value\n",
        "        if any(significant):  # At least one p-value is significant\n",
        "            print(\"The data is statistically significant for at least one test.\")\n",
        "        else:\n",
        "            print(\"The data is not statistically significant for any test.\")\n",
        "    else:  # Scalar case\n",
        "        if p_value < alpha:\n",
        "            print(\"The data is statistically significant.\")\n",
        "        else:\n",
        "            print(\"The data is not statistically significant.\")\n",
        "\n",
        "is_statistical_significant(p_value,alpha)"
      ],
      "metadata": {
        "colab": {
          "base_uri": "https://localhost:8080/"
        },
        "id": "18tJKF1z7nNd",
        "outputId": "8e1f2405-2542-426d-b569-62553b8a0310"
      },
      "execution_count": null,
      "outputs": [
        {
          "output_type": "stream",
          "name": "stdout",
          "text": [
            "The p-value(s): [0.73550329 0.73209752]\n",
            "The data is not statistically significant for any test.\n"
          ]
        }
      ]
    },
    {
      "cell_type": "code",
      "source": [
        "\n",
        "mu = 0\n",
        "sigma = 1\n",
        "x = np.linspace(mu-3*sigma,mu+3*sigma,100)\n",
        "y = norm.pdf(x,mu,sigma)\n",
        "# Assuming t_test values for each group\n",
        "t_test_con = 0.337814\n",
        "t_test_exp = 0.342337\n",
        "plt.plot(x,y,label = \"Standard Normal Distribution\")\n",
        "plt.fill_between(x,y,where = (x > z_value )| (x < -z_value) , color = \"red\" , alpha = 0.5, label = \"Rejection Region\")\n",
        "\n",
        "# Add vertical lines for each group's T statistic\n",
        "plt.axvline(t_test_con, color=\"purple\", linestyle=\"--\", label=\"T Statistic (Control)\")\n",
        "plt.axvline(t_test_exp, color=\"orange\", linestyle=\"--\", label=\"T Statistic (Experimental)\")\n",
        "\n",
        "plt.axvline(-z_value,color = \"green\", linestyle = \"--\")\n",
        "plt.axvline(z_value,color = \"green\", linestyle = \"--\")\n",
        "plt.xlabel(\"Z- Value\")\n",
        "plt.ylabel(\"Probability Density\")\n",
        "plt.title(\"Gaussian Distribution with rejection area\")\n",
        "plt.legend()\n",
        "plt.show()"
      ],
      "metadata": {
        "id": "p8jg5MhfFCJB",
        "colab": {
          "base_uri": "https://localhost:8080/",
          "height": 472
        },
        "outputId": "2e1295d7-de60-46be-a39e-7048bab45b95"
      },
      "execution_count": null,
      "outputs": [
        {
          "output_type": "display_data",
          "data": {
            "text/plain": [
              "<Figure size 640x480 with 1 Axes>"
            ],
            "image/png": "[encoded data removed]"
          },
          "metadata": {}
        }
      ]
    },
    {
      "cell_type": "code",
      "source": [
        "def is_practically_significant(delta,CI):\n",
        "  lower_bound = CI[0]\n",
        "  if lower_bound >= delta:\n",
        "    print(\"we have practically significant results\")\n",
        "    return True\n",
        "  else:\n",
        "    print(\"we do not have practically significant results\")\n",
        "    return False\n",
        "\n",
        "CI = (-0.013,0.023)\n",
        "delta = 0.1\n",
        "is_practically_significant(delta,CI)"
      ],
      "metadata": {
        "colab": {
          "base_uri": "https://localhost:8080/"
        },
        "id": "7S8TSLrskbnt",
        "outputId": "4c0ae168-84d9-4404-97bb-8bac1daa6973"
      },
      "execution_count": null,
      "outputs": [
        {
          "output_type": "stream",
          "name": "stdout",
          "text": [
            "we do not have practically significant results\n"
          ]
        },
        {
          "output_type": "execute_result",
          "data": {
            "text/plain": [
              "False"
            ]
          },
          "metadata": {},
          "execution_count": 88
        }
      ]
    }
  ]
}